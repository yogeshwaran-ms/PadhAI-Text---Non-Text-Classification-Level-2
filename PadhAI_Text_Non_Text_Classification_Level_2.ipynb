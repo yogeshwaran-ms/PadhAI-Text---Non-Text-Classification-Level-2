{
 "cells": [
  {
   "cell_type": "code",
   "execution_count": 1,
   "metadata": {
    "_uuid": "326e3151eb04957e944cfde7a0d5cab290856396"
   },
   "outputs": [],
   "source": [
    "import os\n",
    "import sys\n",
    "import pickle\n",
    "import numpy as np\n",
    "import pandas as pd\n",
    "from PIL import Image, ImageFilter\n",
    "from tqdm import tqdm_notebook\n",
    "from sklearn.preprocessing import StandardScaler, MinMaxScaler\n",
    "from sklearn.metrics import accuracy_score, mean_squared_error, log_loss, confusion_matrix\n",
    "#from padhai import MPNeuron, Perceptron, PerceptronWithSigmoid\n",
    "import matplotlib.pyplot as plt\n",
    "import operator\n",
    "import json\n",
    "import warnings\n",
    "warnings.filterwarnings(\"ignore\")\n",
    "\n",
    "np.random.seed(100)\n",
    "LEVEL = 'level_2'"
   ]
  },
  {
   "cell_type": "code",
   "execution_count": 2,
   "metadata": {
    "_uuid": "eb32933552f72e3f86aec9d257eeb53b782b20bc"
   },
   "outputs": [],
   "source": [
    "def read_all(folder_path, key_prefix=\"\"):\n",
    "    '''\n",
    "    It returns a dictionary with 'file names' as keys and 'flattened image arrays' as values.\n",
    "    '''\n",
    "    print(\"Reading:\")\n",
    "    images = {}\n",
    "    files = os.listdir(folder_path)\n",
    "    for i, file_name in tqdm_notebook(enumerate(files), total=len(files)):\n",
    "        file_path = os.path.join(folder_path, file_name)\n",
    "        image_index = key_prefix + file_name[:-4]\n",
    "        image = Image.open(file_path)\n",
    "        image = image.convert(\"L\")\n",
    "        images[image_index] = np.array(image.copy()).flatten()\n",
    "        image.close()\n",
    "    return images"
   ]
  },
  {
   "cell_type": "code",
   "execution_count": 3,
   "metadata": {
    "_uuid": "8fe7db62948187c489d2575510ebdf4f22a74f6d"
   },
   "outputs": [
    {
     "name": "stdout",
     "output_type": "stream",
     "text": [
      "Reading:\n"
     ]
    },
    {
     "data": {
      "application/vnd.jupyter.widget-view+json": {
       "model_id": "e89a72d714a94296b8aa3517956a6b70",
       "version_major": 2,
       "version_minor": 0
      },
      "text/plain": [
       "HBox(children=(IntProgress(value=0, max=450), HTML(value='')))"
      ]
     },
     "metadata": {},
     "output_type": "display_data"
    },
    {
     "name": "stdout",
     "output_type": "stream",
     "text": [
      "\n",
      "Reading:\n"
     ]
    },
    {
     "data": {
      "application/vnd.jupyter.widget-view+json": {
       "model_id": "2293f524d2da4d9f8bcbdbd988a2bdfb",
       "version_major": 2,
       "version_minor": 0
      },
      "text/plain": [
       "HBox(children=(IntProgress(value=0, max=150), HTML(value='')))"
      ]
     },
     "metadata": {},
     "output_type": "display_data"
    },
    {
     "name": "stdout",
     "output_type": "stream",
     "text": [
      "\n",
      "Reading:\n"
     ]
    },
    {
     "data": {
      "application/vnd.jupyter.widget-view+json": {
       "model_id": "e6615796b609429e96bd899faba151ec",
       "version_major": 2,
       "version_minor": 0
      },
      "text/plain": [
       "HBox(children=(IntProgress(value=0, max=150), HTML(value='')))"
      ]
     },
     "metadata": {},
     "output_type": "display_data"
    },
    {
     "name": "stdout",
     "output_type": "stream",
     "text": [
      "\n",
      "Reading:\n"
     ]
    },
    {
     "data": {
      "application/vnd.jupyter.widget-view+json": {
       "model_id": "3a6f0558e83f46beb9f6f43ecaa1b5bb",
       "version_major": 2,
       "version_minor": 0
      },
      "text/plain": [
       "HBox(children=(IntProgress(value=0, max=150), HTML(value='')))"
      ]
     },
     "metadata": {},
     "output_type": "display_data"
    },
    {
     "name": "stdout",
     "output_type": "stream",
     "text": [
      "\n",
      "900\n",
      "Reading:\n"
     ]
    },
    {
     "data": {
      "application/vnd.jupyter.widget-view+json": {
       "model_id": "d6a626541db6449691345d0c99110e35",
       "version_major": 2,
       "version_minor": 0
      },
      "text/plain": [
       "HBox(children=(IntProgress(value=0, max=300), HTML(value='')))"
      ]
     },
     "metadata": {},
     "output_type": "display_data"
    },
    {
     "name": "stdout",
     "output_type": "stream",
     "text": [
      "\n",
      "300\n"
     ]
    }
   ],
   "source": [
    "languages = ['ta', 'hi', 'en']\n",
    "\n",
    "images_train = read_all(\"../input/level_2_train/\"+LEVEL+\"/\"+\"background\", key_prefix='bgr_') # change the path\n",
    "for language in languages:\n",
    "    images_train.update(read_all(\"../input/level_2_train/\"+LEVEL+\"/\"+language, key_prefix=language+\"_\" ))\n",
    "print(len(images_train))\n",
    "\n",
    "images_test = read_all(\"../input/level_2_test/kaggle_\"+LEVEL, key_prefix='') # change the path\n",
    "print(len(images_test))"
   ]
  },
  {
   "cell_type": "code",
   "execution_count": 4,
   "metadata": {
    "_uuid": "145dfd5b07787c3d9255e27b3d0ba0ffd9a6e7e7"
   },
   "outputs": [
    {
     "data": {
      "text/plain": [
       "['145', '34', '90', '261', '48']"
      ]
     },
     "execution_count": 4,
     "metadata": {},
     "output_type": "execute_result"
    }
   ],
   "source": [
    "list(images_test.keys())[:5]"
   ]
  },
  {
   "cell_type": "code",
   "execution_count": 5,
   "metadata": {
    "_uuid": "e2ed40a58ba0b27fbb52eec97561a8c2490fb88b"
   },
   "outputs": [
    {
     "name": "stdout",
     "output_type": "stream",
     "text": [
      "(900, 256) (900,)\n",
      "(300, 256)\n"
     ]
    }
   ],
   "source": [
    "X_train = []\n",
    "Y_train = []\n",
    "for key, value in images_train.items():\n",
    "    X_train.append(value)\n",
    "    if key[:4] == \"bgr_\":\n",
    "        Y_train.append(0)\n",
    "    else:\n",
    "        Y_train.append(1)\n",
    "\n",
    "ID_test = []\n",
    "X_test = []\n",
    "for key, value in images_test.items():\n",
    "    ID_test.append(int(key))\n",
    "    X_test.append(value)\n",
    "\n",
    "X_train = np.array(X_train)\n",
    "Y_train = np.array(Y_train)\n",
    "X_test = np.array(X_test)\n",
    "\n",
    "print(X_train.shape, Y_train.shape)\n",
    "print(X_test.shape)"
   ]
  },
  {
   "cell_type": "code",
   "execution_count": 6,
   "metadata": {
    "_uuid": "813c354f6ebe92227c07262093acf8bb96f2068a"
   },
   "outputs": [],
   "source": [
    "scaler = MinMaxScaler()\n",
    "X_scaled_train = scaler.fit_transform(X_train)\n",
    "X_scaled_test = scaler.transform(X_test)"
   ]
  },
  {
   "cell_type": "code",
   "execution_count": 7,
   "metadata": {
    "_uuid": "8308903361d2c1bbf154f2ef0fb778580c486b69"
   },
   "outputs": [],
   "source": [
    "def binarise_data(X):\n",
    "    x_binarised_data = []\n",
    "    for x in X:\n",
    "        x_temp = []\n",
    "        for i in x:\n",
    "            if i == 1:\n",
    "                x_temp.append(1)\n",
    "            else:\n",
    "                x_temp.append(0)\n",
    "        x_binarised_data.append(x_temp)\n",
    "    return np.array(x_binarised_data)"
   ]
  },
  {
   "cell_type": "code",
   "execution_count": 8,
   "metadata": {
    "_uuid": "2d7a4011fac7e22ea8070ffdedfe5f5bb07ed122"
   },
   "outputs": [],
   "source": [
    "X_binarised_train = binarise_data(X_scaled_train)\n",
    "X_binarised_test = binarise_data(X_scaled_test)"
   ]
  },
  {
   "cell_type": "markdown",
   "metadata": {
    "_uuid": "ce5bd7bd1e700e16518720478c8cd0a1498c327d"
   },
   "source": [
    "## Since the data is linear separable, using MPneuron model."
   ]
  },
  {
   "cell_type": "code",
   "execution_count": 9,
   "metadata": {
    "_uuid": "bc3220becda8045df252de10ecf5bb62fa38ff42"
   },
   "outputs": [],
   "source": [
    "class MPNeuron:\n",
    "    \n",
    "    def __init__(self):\n",
    "        self.theta = None\n",
    "        \n",
    "    def mp_neuron(self, x):\n",
    "        if sum(x) >= self.theta:\n",
    "            return 1\n",
    "        return 0\n",
    "    \n",
    "    def fit_brute_force(self, X, Y):\n",
    "        accuracy = {}\n",
    "        for theta in tqdm_notebook(range(0, X.shape[1]+1), total=X.shape[1]+1):\n",
    "            self.theta = theta\n",
    "            Y_pred = self.predict(X)\n",
    "            accuracy[theta] = accuracy_score(Y, Y_pred)  \n",
    "            \n",
    "        sorted_accuracy = sorted(accuracy.items(), key=operator.itemgetter(1), reverse=True)\n",
    "        best_theta, best_accuracy = sorted_accuracy[0]\n",
    "        self.theta = best_theta\n",
    "        \n",
    "    def fit(self, X, Y, epochs=10, log=False, display_plot=False):\n",
    "        self.theta = (X.shape[1]+1)//2\n",
    "        if log or display_plot:\n",
    "            accuracy = {}\n",
    "        for i in tqdm_notebook(range(epochs), total=epochs, unit=\"epoch\"):\n",
    "            Y_pred = self.predict(X)\n",
    "            tn, fp, fn, tp = confusion_matrix(Y, Y_pred).ravel()\n",
    "            if fp > fn and self.theta <= X.shape[1]:\n",
    "                self.theta += 1\n",
    "            elif fp < fn and self.theta >= 1:\n",
    "                self.theta -= 1\n",
    "            else:\n",
    "                continue\n",
    "                \n",
    "            if log or display_plot:\n",
    "                Y_pred = self.predict(X)\n",
    "                accuracy[i] = accuracy_score(Y, Y_pred)\n",
    "        if log:\n",
    "            with open('mp_neuron_accuracy.json', 'w') as fp:\n",
    "                json.dump(accuracy, fp)\n",
    "        if display_plot:\n",
    "            epochs_, accuracy_ = zip(*accuracy.items())\n",
    "            plt.plot(epochs_, accuracy_)\n",
    "            plt.xlabel(\"Epochs\")\n",
    "            plt.ylabel(\"Train Accuracy\")\n",
    "            plt.show()\n",
    "    \n",
    "    def predict(self, X):\n",
    "        Y = []\n",
    "        for x in X:\n",
    "            result = self.mp_neuron(x)\n",
    "            Y.append(result)\n",
    "        return np.array(Y)\n"
   ]
  },
  {
   "cell_type": "code",
   "execution_count": 10,
   "metadata": {
    "_uuid": "431f964f13625ff97adfbe1548a4d62d45cd6716"
   },
   "outputs": [
    {
     "data": {
      "application/vnd.jupyter.widget-view+json": {
       "model_id": "162364b6ba5f4ffc88589d7dd72f1fdc",
       "version_major": 2,
       "version_minor": 0
      },
      "text/plain": [
       "HBox(children=(IntProgress(value=0, max=257), HTML(value='')))"
      ]
     },
     "metadata": {},
     "output_type": "display_data"
    },
    {
     "name": "stdout",
     "output_type": "stream",
     "text": [
      "\n"
     ]
    }
   ],
   "source": [
    "mpneuron = MPNeuron()\n",
    "mpneuron.fit_brute_force(X_binarised_train,Y_train)"
   ]
  },
  {
   "cell_type": "code",
   "execution_count": 11,
   "metadata": {
    "_uuid": "346b0d0f887a491e3539b303ec69a5e3dcf750bb"
   },
   "outputs": [
    {
     "data": {
      "text/plain": [
       "1.0"
      ]
     },
     "execution_count": 11,
     "metadata": {},
     "output_type": "execute_result"
    }
   ],
   "source": [
    "accuracy_score(mpneuron.predict(X_binarised_train),Y_train)"
   ]
  },
  {
   "cell_type": "code",
   "execution_count": 12,
   "metadata": {
    "_uuid": "bfaea31391bd22dae84e6f5ac702bfeb0e60781c"
   },
   "outputs": [
    {
     "data": {
      "text/plain": [
       "array([[450,   0],\n",
       "       [  0, 450]])"
      ]
     },
     "execution_count": 12,
     "metadata": {},
     "output_type": "execute_result"
    }
   ],
   "source": [
    "confusion_matrix(mpneuron.predict(X_binarised_train),Y_train)"
   ]
  },
  {
   "cell_type": "markdown",
   "metadata": {
    "_uuid": "7b9f8d976289fc7362d074e69961d93f350b2b69"
   },
   "source": [
    "## Sample Submission"
   ]
  },
  {
   "cell_type": "code",
   "execution_count": 13,
   "metadata": {
    "_uuid": "01e714d3915ff6a50d43315b4052d459a533266b"
   },
   "outputs": [],
   "source": [
    "Y_pred_test = mpneuron.predict(X_binarised_test)\n",
    "\n",
    "submission = pd.DataFrame({'ImageId':ID_test,\n",
    "             'Class':Y_pred_test})\n",
    "\n",
    "submission = submission.sort_values(['ImageId'])\n",
    "submission.to_csv(\"submisision.csv\", index=False)"
   ]
  }
 ],
 "metadata": {
  "kernelspec": {
   "display_name": "Python 3",
   "language": "python",
   "name": "python3"
  },
  "language_info": {
   "codemirror_mode": {
    "name": "ipython",
    "version": 3
   },
   "file_extension": ".py",
   "mimetype": "text/x-python",
   "name": "python",
   "nbconvert_exporter": "python",
   "pygments_lexer": "ipython3",
   "version": "3.6.6"
  }
 },
 "nbformat": 4,
 "nbformat_minor": 1
}
